{
 "cells": [
  {
   "cell_type": "code",
   "execution_count": 2,
   "metadata": {},
   "outputs": [],
   "source": [
    "import tensorflow as tf\n",
    "\n",
    "from plotgraph import show_graph"
   ]
  },
  {
   "cell_type": "code",
   "execution_count": 3,
   "metadata": {},
   "outputs": [
    {
     "name": "stdout",
     "output_type": "stream",
     "text": [
      "Tensor(\"Mul:0\", shape=(), dtype=int32)\n",
      "2\n",
      "('y=', 20)\n"
     ]
    }
   ],
   "source": [
    "graph = tf.Graph()\n",
    "with graph.as_default():\n",
    "    a  =  tf.constant(2,name=\"a\")\n",
    "    b  =  tf.constant(3,name=\"b\")\n",
    "    c  =  tf.constant(4,name=\"c\")\n",
    "    d  =  tf.constant(10,name=\"d\")\n",
    "    \n",
    "    x  =  tf.add(a, b,name=\"x\")\n",
    "    y=tf.multiply(x,c)\n",
    "    z=tf.div(y,d)\n",
    "    print(y)\n",
    "    \n",
    "    g=  tf.add(x, b,name=\"g\")\n",
    "    h=  tf.multiply(g,c,name=\"h\")\n",
    "    \n",
    "    with tf.Session() as sess:\n",
    "        e=sess.run(z)\n",
    "        print(e)\n",
    "        t=sess.run(y)\n",
    "        print('y=',t)"
   ]
  },
  {
   "cell_type": "code",
   "execution_count": 4,
   "metadata": {},
   "outputs": [
    {
     "data": {
      "text/html": [
       "\n",
       "        <iframe seamless style=\"width:1200px;height:620px;border:0\" srcdoc=\"\n",
       "        <script>\n",
       "          function load() {\n",
       "            document.getElementById(&quot;graph0.186977687185&quot;).pbtxt = 'node {\\n  name: &quot;a&quot;\\n  op: &quot;Const&quot;\\n  attr {\\n    key: &quot;dtype&quot;\\n    value {\\n      type: DT_INT32\\n    }\\n  }\\n  attr {\\n    key: &quot;value&quot;\\n    value {\\n      tensor {\\n        dtype: DT_INT32\\n        tensor_shape {\\n        }\\n        int_val: 2\\n      }\\n    }\\n  }\\n}\\nnode {\\n  name: &quot;b&quot;\\n  op: &quot;Const&quot;\\n  attr {\\n    key: &quot;dtype&quot;\\n    value {\\n      type: DT_INT32\\n    }\\n  }\\n  attr {\\n    key: &quot;value&quot;\\n    value {\\n      tensor {\\n        dtype: DT_INT32\\n        tensor_shape {\\n        }\\n        int_val: 3\\n      }\\n    }\\n  }\\n}\\nnode {\\n  name: &quot;c&quot;\\n  op: &quot;Const&quot;\\n  attr {\\n    key: &quot;dtype&quot;\\n    value {\\n      type: DT_INT32\\n    }\\n  }\\n  attr {\\n    key: &quot;value&quot;\\n    value {\\n      tensor {\\n        dtype: DT_INT32\\n        tensor_shape {\\n        }\\n        int_val: 4\\n      }\\n    }\\n  }\\n}\\nnode {\\n  name: &quot;d&quot;\\n  op: &quot;Const&quot;\\n  attr {\\n    key: &quot;dtype&quot;\\n    value {\\n      type: DT_INT32\\n    }\\n  }\\n  attr {\\n    key: &quot;value&quot;\\n    value {\\n      tensor {\\n        dtype: DT_INT32\\n        tensor_shape {\\n        }\\n        int_val: 10\\n      }\\n    }\\n  }\\n}\\nnode {\\n  name: &quot;x&quot;\\n  op: &quot;Add&quot;\\n  input: &quot;a&quot;\\n  input: &quot;b&quot;\\n  attr {\\n    key: &quot;T&quot;\\n    value {\\n      type: DT_INT32\\n    }\\n  }\\n}\\nnode {\\n  name: &quot;Mul&quot;\\n  op: &quot;Mul&quot;\\n  input: &quot;x&quot;\\n  input: &quot;c&quot;\\n  attr {\\n    key: &quot;T&quot;\\n    value {\\n      type: DT_INT32\\n    }\\n  }\\n}\\nnode {\\n  name: &quot;div&quot;\\n  op: &quot;FloorDiv&quot;\\n  input: &quot;Mul&quot;\\n  input: &quot;d&quot;\\n  attr {\\n    key: &quot;T&quot;\\n    value {\\n      type: DT_INT32\\n    }\\n  }\\n}\\nnode {\\n  name: &quot;g&quot;\\n  op: &quot;Add&quot;\\n  input: &quot;x&quot;\\n  input: &quot;b&quot;\\n  attr {\\n    key: &quot;T&quot;\\n    value {\\n      type: DT_INT32\\n    }\\n  }\\n}\\nnode {\\n  name: &quot;h&quot;\\n  op: &quot;Mul&quot;\\n  input: &quot;g&quot;\\n  input: &quot;c&quot;\\n  attr {\\n    key: &quot;T&quot;\\n    value {\\n      type: DT_INT32\\n    }\\n  }\\n}\\n';\n",
       "          }\n",
       "        </script>\n",
       "        <link rel=&quot;import&quot; href=&quot;https://tensorboard.appspot.com/tf-graph-basic.build.html&quot; onload=load()>\n",
       "        <div style=&quot;height:600px&quot;>\n",
       "          <tf-graph-basic id=&quot;graph0.186977687185&quot;></tf-graph-basic>\n",
       "        </div>\n",
       "    \"></iframe>\n",
       "    "
      ],
      "text/plain": [
       "<IPython.core.display.HTML object>"
      ]
     },
     "metadata": {},
     "output_type": "display_data"
    }
   ],
   "source": [
    "show_graph(graph)"
   ]
  },
  {
   "cell_type": "code",
   "execution_count": 5,
   "metadata": {},
   "outputs": [
    {
     "name": "stdout",
     "output_type": "stream",
     "text": [
      "()\n",
      "(1,)\n",
      "(2,)\n",
      "(2, 2)\n"
     ]
    }
   ],
   "source": [
    "a = tf.constant(5)\n",
    "b = tf.constant([5])\n",
    "\n",
    "# constant of 1d tensor (vector)\n",
    "c=tf.constant([2,2],name=\"vector\")\n",
    "# constant of 2x2 tensor (matrix)\n",
    "d=tf.constant([[0,1],[2,3]],name=\"b\")\n",
    "\n",
    "\n",
    "print(a.shape)\n",
    "print(b.shape)\n",
    "print(c.shape)\n",
    "print(d.shape)\n",
    "#b = tf.ones((2,2))\n",
    "#c = 5*tf.zeros((2,2))\n",
    "#print(c)\n"
   ]
  },
  {
   "cell_type": "code",
   "execution_count": 6,
   "metadata": {},
   "outputs": [
    {
     "data": {
      "text/plain": [
       "<tf.Tensor 'ones_1:0' shape=(2, 3) dtype=complex64>"
      ]
     },
     "execution_count": 6,
     "metadata": {},
     "output_type": "execute_result"
    }
   ],
   "source": [
    "tf.zeros([2,3],tf.int32)\n",
    "tf.ones([2,3],tf.int32)\n",
    "tf.ones([2,3],8)"
   ]
  },
  {
   "cell_type": "code",
   "execution_count": 7,
   "metadata": {},
   "outputs": [],
   "source": [
    "#You can create constants that are sequences"
   ]
  },
  {
   "cell_type": "code",
   "execution_count": 8,
   "metadata": {},
   "outputs": [
    {
     "data": {
      "text/plain": [
       "<tf.Tensor 'linspace:0' shape=(4,) dtype=float32>"
      ]
     },
     "execution_count": 8,
     "metadata": {},
     "output_type": "execute_result"
    }
   ],
   "source": [
    "tf.linspace(10.0,13.0,4,name=\"linspace\")\n",
    "# 'start' is 3, 'limit' is 18, 'delta' is 3\n"
   ]
  },
  {
   "cell_type": "code",
   "execution_count": 9,
   "metadata": {},
   "outputs": [],
   "source": [
    "# variable"
   ]
  },
  {
   "cell_type": "code",
   "execution_count": 10,
   "metadata": {},
   "outputs": [
    {
     "name": "stdout",
     "output_type": "stream",
     "text": [
      "[[0. 0.]\n",
      " [0. 0.]]\n",
      "[[ 0.68106866  0.6508972 ]\n",
      " [ 0.33443576 -0.86536276]]\n"
     ]
    }
   ],
   "source": [
    "W = tf.Variable(tf.zeros((2,2)), name=\"weights\")\n",
    "R = tf.Variable(tf.random_normal((2,2)), name=\"random_weights\")\n",
    "\n",
    "\n",
    "with tf.Session() as sess:\n",
    "    sess.run(tf.global_variables_initializer())\n",
    "    print(sess.run(W))\n",
    "    print(sess.run(R))"
   ]
  },
  {
   "cell_type": "code",
   "execution_count": 11,
   "metadata": {},
   "outputs": [],
   "source": [
    "# variable scope"
   ]
  },
  {
   "cell_type": "code",
   "execution_count": 12,
   "metadata": {},
   "outputs": [],
   "source": [
    "with tf.variable_scope(\"foo\"):\n",
    "    with tf.variable_scope(\"bar\"):\n",
    "        v = tf.get_variable(\"v\", [1])\n",
    "assert v.name == \"foo/bar/v:0\""
   ]
  },
  {
   "cell_type": "code",
   "execution_count": 13,
   "metadata": {},
   "outputs": [],
   "source": [
    "\n",
    "with tf.variable_scope(\"foo\"):\n",
    "    v = tf.get_variable(\"v\", [1])\n",
    "assert v.name == \"foo/v:0\""
   ]
  },
  {
   "cell_type": "code",
   "execution_count": 14,
   "metadata": {},
   "outputs": [],
   "source": [
    "\n",
    "with tf.variable_scope(\"foo\",reuse=True):\n",
    "    v = tf.get_variable(\"v\", [1])\n",
    "with tf.variable_scope(\"foo\", reuse=True):\n",
    "    v1 = tf.get_variable(\"v\", [1])\n",
    "assert v1 == v"
   ]
  },
  {
   "cell_type": "code",
   "execution_count": 15,
   "metadata": {},
   "outputs": [],
   "source": [
    "# Placeholders and feed_dict"
   ]
  },
  {
   "cell_type": "code",
   "execution_count": 16,
   "metadata": {},
   "outputs": [
    {
     "name": "stdout",
     "output_type": "stream",
     "text": [
      "[6. 7. 8.]\n",
      "[15. 16. 17.]\n"
     ]
    }
   ],
   "source": [
    "# create a placeholder of type float 32-bit, shape is a vector of 3 elements\n",
    "a=tf.placeholder(tf.float32,shape=[3])\n",
    "\n",
    "#a = tf.Variable(tf.ones((3)), name=\"a\")\n",
    "# create a constant of type float 32-bit, shape is a vector of 3 elements\n",
    "b=tf.constant([5,5,5],tf.float32)\n",
    "# use the placeholder as you would a constant or a variable\n",
    "c=a+b # Short for tf.add(a, b)\n",
    "with tf.Session() as sess:\n",
    "    sess.run(tf.global_variables_initializer())\n",
    "    #print(sess.run(a))\n",
    "    print(sess.run(c,{a:[1,2,3]}))\n",
    "    print(sess.run(c,{a:[10,11,12]}))\n",
    "    #print(sess.run(c))"
   ]
  },
  {
   "cell_type": "code",
   "execution_count": 17,
   "metadata": {},
   "outputs": [],
   "source": [
    "#feed multiple data points to placeholder?"
   ]
  },
  {
   "cell_type": "code",
   "execution_count": 18,
   "metadata": {},
   "outputs": [
    {
     "name": "stdout",
     "output_type": "stream",
     "text": [
      "[6. 7. 8.]\n",
      "[ 9. 10. 11.]\n"
     ]
    }
   ],
   "source": [
    "list_of_a_values=([1,2,3],[4,5,6])\n",
    "with tf.Session() as sess:\n",
    "    for a_value in list_of_a_values:\n",
    "        print(sess.run(c,{a:a_value}))"
   ]
  },
  {
   "cell_type": "code",
   "execution_count": 19,
   "metadata": {},
   "outputs": [],
   "source": [
    "# use feed_dict"
   ]
  },
  {
   "cell_type": "code",
   "execution_count": 20,
   "metadata": {},
   "outputs": [
    {
     "name": "stdout",
     "output_type": "stream",
     "text": [
      "[6. 7. 8.]\n",
      "[ 9. 10. 11.]\n"
     ]
    }
   ],
   "source": [
    "list_of_a_values=([1,2,3],[4,5,6])\n",
    "with tf.Session() as sess:\n",
    "    for a_value in list_of_a_values:\n",
    "        print(sess.run(c,feed_dict={a:a_value}))"
   ]
  },
  {
   "cell_type": "code",
   "execution_count": 21,
   "metadata": {},
   "outputs": [],
   "source": [
    "#Variable are also feedable"
   ]
  },
  {
   "cell_type": "code",
   "execution_count": 22,
   "metadata": {},
   "outputs": [
    {
     "name": "stdout",
     "output_type": "stream",
     "text": [
      "10\n"
     ]
    }
   ],
   "source": [
    "a=tf.add(2,3)\n",
    "b=tf.multiply(a,5)\n",
    "with tf.Session() as sess:\n",
    "    print(sess.run(b,{a:2}))"
   ]
  },
  {
   "cell_type": "code",
   "execution_count": 23,
   "metadata": {},
   "outputs": [],
   "source": [
    "#Compute gradients:"
   ]
  },
  {
   "cell_type": "code",
   "execution_count": 24,
   "metadata": {},
   "outputs": [
    {
     "name": "stdout",
     "output_type": "stream",
     "text": [
      "4.0\n",
      "12.0\n"
     ]
    }
   ],
   "source": [
    "# define symbolic variables\n",
    "x = tf.placeholder(\"float\") \n",
    "y = tf.placeholder(\"float\")\n",
    "\n",
    "# define a function R=R(x,y)\n",
    "#R = 0.127-(x*0.194/(y+0.194))\n",
    "R=x*x+2*y*y\n",
    "\n",
    "# The derivative of R with respect to y\n",
    "Rdx,Rdy = tf.gradients(R, [x,y]); \n",
    "\n",
    "# Launch a session for the default graph to comput dR/dy at (x,y)=(0.362, 0.556)\n",
    "sess = tf.Session()\n",
    "dx = sess.run(Rdx, {x:2,y:1})\n",
    "dy = sess.run(Rdy, {x:2,y:3})\n",
    "print(dx)\n",
    "print(dy)"
   ]
  },
  {
   "cell_type": "code",
   "execution_count": 25,
   "metadata": {},
   "outputs": [
    {
     "name": "stdout",
     "output_type": "stream",
     "text": [
      "('A=', array([[-1.6706126 ,  0.01952025],\n",
      "       [-0.1694668 ,  1.5714623 ],\n",
      "       [ 1.315937  , -0.81158847]], dtype=float32))\n",
      "('B=', array([[ 2.6373768 ,  0.0698636 ,  0.06585131],\n",
      "       [-0.24940877,  0.9251737 , -0.16281162]], dtype=float32))\n",
      "('C=', array([[3.24796  , 2.3473954, 2.5231273],\n",
      "       [2.3638191, 1.6681817, 1.8870158],\n",
      "       [1.2953143, 1.2943413, 0.5545496]], dtype=float32))\n",
      "('D=', array([[ -4071835.2,  10732677. ,  25844544. ],\n",
      "       [ -7734767.5,  20387552. ,  49093720. ],\n",
      "       [  2349573.5,  -6193076.5, -14913081. ]], dtype=float32))\n"
     ]
    }
   ],
   "source": []
  },
  {
   "cell_type": "code",
   "execution_count": 26,
   "metadata": {},
   "outputs": [
    {
     "name": "stdout",
     "output_type": "stream",
     "text": [
      "('y=', array([[0.9241418]], dtype=float32))\n",
      "('y=', array([[0.98201376]], dtype=float32))\n",
      "('y=', array([[0.9241418]], dtype=float32))\n"
     ]
    }
   ],
   "source": [
    "\n",
    "        "
   ]
  },
  {
   "cell_type": "code",
   "execution_count": null,
   "metadata": {},
   "outputs": [],
   "source": []
  }
 ],
 "metadata": {
  "kernelspec": {
   "display_name": "Python 3",
   "language": "python",
   "name": "python3"
  },
  "language_info": {
   "codemirror_mode": {
    "name": "ipython",
    "version": 2
   },
   "file_extension": ".py",
   "mimetype": "text/x-python",
   "name": "python",
   "nbconvert_exporter": "python",
   "pygments_lexer": "ipython2",
   "version": "2.7.12"
  }
 },
 "nbformat": 4,
 "nbformat_minor": 2
}
